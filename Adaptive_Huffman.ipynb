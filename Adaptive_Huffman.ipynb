{
  "nbformat": 4,
  "nbformat_minor": 0,
  "metadata": {
    "colab": {
      "provenance": [],
      "toc_visible": true
    },
    "kernelspec": {
      "name": "python3",
      "display_name": "Python 3"
    },
    "language_info": {
      "name": "python"
    }
  },
  "cells": [
    {
      "cell_type": "markdown",
      "source": [
        "# Adaptive Huffman Algorithm"
      ],
      "metadata": {
        "id": "A3xfGCVTz6Au"
      }
    },
    {
      "cell_type": "markdown",
      "source": [
        "Adaptive Huffman Coding (Algorithm M) in Python\n",
        "# --------------------------------------------------\n",
        "This is a memory-efficient adaptive Huffman coding algorithm converted from C++.\n",
        "It maintains a tree of frequency classes instead of individual symbols to reduce memory usage.\n",
        "The tree evolves as input symbols are processed, adapting to symbol frequencies dynamically."
      ],
      "metadata": {
        "id": "Q96C0UY3ph2t"
      }
    },
    {
      "cell_type": "code",
      "source": [
        "from collections import deque\n",
        "from typing import List, Optional\n",
        "\n",
        "# Node class represents a node in the Huffman tree.\n",
        "class Node:\n",
        "    def __init__(self, data=None):\n",
        "        self.occurrences = 0                       # Number of times the symbol(s) occurred\n",
        "        self.weight = 0                            # Weight used for balancing (depends on frequency)\n",
        "        self.data: List[int] = [] if data is None else data  # List of symbols in this frequency class\n",
        "        self.left = None                           # Left child in the tree\n",
        "        self.right = None                          # Right child in the tree\n",
        "        self.parent = None                         # Pointer to parent node\n",
        "\n"
      ],
      "metadata": {
        "id": "izlItlkvkWqw"
      },
      "execution_count": 26,
      "outputs": []
    },
    {
      "cell_type": "markdown",
      "source": [
        "## i.Huffman Tree Structure"
      ],
      "metadata": {
        "id": "ynT8X8z10CkI"
      }
    },
    {
      "cell_type": "code",
      "source": [
        "# Step 1: Initialize the Huffman tree with a root node\n",
        "\n",
        "def initialize_tree(start_symbol: int) -> Node:\n",
        "    root = Node()\n",
        "    root.weight = 1e8  # Large weight to ensure root stays on top\n",
        "    return root\n"
      ],
      "metadata": {
        "id": "tteZMc31o50A"
      },
      "execution_count": 27,
      "outputs": []
    },
    {
      "cell_type": "markdown",
      "source": [
        "## ii.To find the leaf node"
      ],
      "metadata": {
        "id": "EV96AJyE0LFp"
      }
    },
    {
      "cell_type": "code",
      "source": [
        "# Step 2: Utility to find a leaf containing a specific symbol\n",
        "\n",
        "def find_leaf_by_term(root: Node, dict_node: Node, term: int) -> Node:\n",
        "    q = deque([root])\n",
        "    while q:\n",
        "        current = q.popleft()\n",
        "        if term in current.data:\n",
        "            return current\n",
        "        if current.left:\n",
        "            q.append(current.left)\n",
        "        if current.right:\n",
        "            q.append(current.right)\n",
        "    return dict_node"
      ],
      "metadata": {
        "id": "7_Yl7C2io6ic"
      },
      "execution_count": 28,
      "outputs": []
    },
    {
      "cell_type": "markdown",
      "source": [
        "## iii.To find leaf by frequency count"
      ],
      "metadata": {
        "id": "8D4xeCbK0UMg"
      }
    },
    {
      "cell_type": "code",
      "source": [
        "# Step 3: Utility to find leaf by frequency count\n",
        "\n",
        "def find_leaf_by_occurrences(root: Node, target_occurrences: int) -> Optional[Node]:\n",
        "    q = deque([root])\n",
        "    while q:\n",
        "        current = q.popleft()\n",
        "        if current.occurrences == target_occurrences:\n",
        "            return current\n",
        "        if current.left:\n",
        "            q.append(current.left)\n",
        "        if current.right:\n",
        "            q.append(current.right)\n",
        "    return None\n",
        "\n",
        "\n",
        "# Update node's weight using its children\n",
        "\n",
        "def update_weight(node: Node):\n",
        "    if node.left and node.right:\n",
        "        node.weight = node.left.weight + node.right.weight\n",
        "    elif node.left:\n",
        "        node.weight = node.left.weight\n",
        "    elif node.right:\n",
        "        node.weight = node.right.weight\n",
        "    else:\n",
        "        node.weight = node.occurrences # if node has no children weight depends on occurrences\n",
        "\n",
        "\n",
        "# Swap left and right children of a node\n",
        "\n",
        "def swap_children(node: Node):\n",
        "    node.left, node.right = node.right, node.left\n",
        "\n",
        "# Remove a child from its parent node\n",
        "\n",
        "def remove_child_from_parent(child: Node):\n",
        "    parent = child.parent\n",
        "    if not parent:\n",
        "        return\n",
        "    if parent.left == child:\n",
        "        parent.left = None\n",
        "    else:\n",
        "        parent.right = None\n",
        "\n",
        "# Get sibling of a node\n",
        "\n",
        "def get_sibling(node: Node) -> Optional[Node]:\n",
        "    if not node.parent:\n",
        "        return None\n",
        "    return node.parent.right if node.parent.left == node else node.parent.left\n",
        "\n",
        "# Exchange positions of two nodes in the tree\n",
        "\n",
        "def exchange_nodes(left: Node, right: Node):\n",
        "    if not left or not right or left == right:\n",
        "        return\n",
        "\n",
        "    left_parent = left.parent\n",
        "    right_parent = right.parent\n",
        "\n",
        "    if not left_parent or not right_parent:\n",
        "        return\n",
        "\n",
        "    is_left_left_child = (left_parent.left == left)\n",
        "    is_right_left_child = (right_parent.left == right)\n",
        "\n",
        "    left.parent = right_parent\n",
        "    right.parent = left_parent\n",
        "\n",
        "    if is_left_left_child:\n",
        "        left_parent.left = right\n",
        "    else:\n",
        "        left_parent.right = right\n",
        "\n",
        "    if is_right_left_child:\n",
        "        right_parent.left = left\n",
        "    else:\n",
        "        right_parent.right = left\n",
        "\n",
        "    # Update children’s parent pointers\n",
        "    for child in [left.left, left.right]:\n",
        "        if child:\n",
        "            child.parent = left\n",
        "    for child in [right.left, right.right]:\n",
        "        if child:\n",
        "            child.parent = right"
      ],
      "metadata": {
        "id": "iuAnSm0Xo8Q9"
      },
      "execution_count": 29,
      "outputs": []
    },
    {
      "cell_type": "markdown",
      "source": [
        "## iv.Rebalancing"
      ],
      "metadata": {
        "id": "NmIJrLwl0h0p"
      }
    },
    {
      "cell_type": "code",
      "source": [
        "# Step 4: Rebalance the tree as needed to maintain structure\n",
        "\n",
        "def shift_up(root: Node, node: Node):\n",
        "    curr = node\n",
        "    while curr != root and curr is not None:\n",
        "        # Update weight of current node\n",
        "        if curr.left and curr.right:\n",
        "            curr.weight = curr.left.weight + curr.right.weight\n",
        "        else:\n",
        "            curr.weight = curr.occurrences * curr.weight\n",
        "\n",
        "        # Perform rotations if imbalance is detected\n",
        "        if curr.parent and get_sibling(curr) and curr.weight > get_sibling(curr).weight + 1:\n",
        "            if curr.parent.parent and get_sibling(curr.parent) and curr.weight > get_sibling(curr.parent).weight:\n",
        "                q = curr.parent.parent\n",
        "                old_parent = curr.parent\n",
        "                exchange_nodes(curr, get_sibling(curr.parent))\n",
        "                swap_children(q)\n",
        "                update_weight(old_parent)\n",
        "        curr = curr.parent"
      ],
      "metadata": {
        "id": "gZeVeCfmo96e"
      },
      "execution_count": 30,
      "outputs": []
    },
    {
      "cell_type": "markdown",
      "source": [
        "## v.For next symbol\n",
        "-- if only already seen -- find leaf with frequency count\n",
        "-- else new node"
      ],
      "metadata": {
        "id": "M4iGddSB0ljX"
      }
    },
    {
      "cell_type": "code",
      "source": [
        "# Step 5: Update the Huffman tree with the next symbol\n",
        "\n",
        "def update_tree(root_ref: List[Node], dict_node: Node, next_term: int):\n",
        "    root = root_ref[0]\n",
        "    p = find_leaf_by_term(root, dict_node, next_term)\n",
        "    q = find_leaf_by_occurrences(root, p.occurrences + 1)\n",
        "\n",
        "    if q:\n",
        "        if p != dict_node:\n",
        "            p.data.remove(next_term)\n",
        "            p.weight -= p.occurrences\n",
        "        q.data.append(next_term)\n",
        "        q.weight += q.occurrences\n",
        "        if not p.data and p != dict_node:\n",
        "            remove_child_from_parent(p)\n",
        "        elif get_sibling(p):\n",
        "            shift_up(root, get_sibling(p))\n",
        "    else:\n",
        "        new_node = Node()\n",
        "        new_class = Node([next_term])\n",
        "        new_class.occurrences = p.occurrences + 1\n",
        "        new_class.weight = new_class.occurrences\n",
        "\n",
        "        new_node.left = p\n",
        "        new_node.right = new_class\n",
        "        new_node.weight = p.weight + new_class.weight\n",
        "        new_class.parent = new_node\n",
        "\n",
        "        if p.parent:\n",
        "            if p.parent.left == p:\n",
        "                p.parent.left = new_node\n",
        "            else:\n",
        "                p.parent.right = new_node\n",
        "            new_node.parent = p.parent\n",
        "        else:\n",
        "            root_ref[0] = new_node  # New root after restructuring\n",
        "\n",
        "        p.parent = new_node\n",
        "\n",
        "        if p != dict_node:\n",
        "            p.data.remove(next_term)\n",
        "            p.weight -= p.occurrences\n",
        "\n",
        "        if not p.data and p != dict_node:\n",
        "            remove_child_from_parent(p)\n",
        "        elif get_sibling(p):\n",
        "            shift_up(root, get_sibling(p))\n",
        "        shift_up(root, new_node)"
      ],
      "metadata": {
        "id": "CsYUzA4ypUnn"
      },
      "execution_count": 31,
      "outputs": []
    },
    {
      "cell_type": "markdown",
      "source": [
        "## vi. Visualization of Final Tree"
      ],
      "metadata": {
        "id": "-l1sNN9M1CTJ"
      }
    },
    {
      "cell_type": "code",
      "source": [
        "# Step 6 (Updated): Visual tree printing in a binary tree format\n",
        "\n",
        "def print_bt(prefix: str, node: Optional[Node], is_left: bool):\n",
        "    if node is not None:\n",
        "        print(prefix, end=\"\")\n",
        "        print(\"├── \" if is_left else \"└── \", end=\"\")\n",
        "        print(f\"Occurrences: {node.occurrences}, Data: {node.data}, Weight: {node.weight}\")\n",
        "\n",
        "        new_prefix = prefix + (\"│   \" if is_left else \"    \")\n",
        "        print_bt(new_prefix, node.left, True)\n",
        "        print_bt(new_prefix, node.right, False)\n",
        "\n",
        "def print_bt_root(node: Node):\n",
        "    print_bt(\"\", node, False)\n"
      ],
      "metadata": {
        "id": "grn-zkZNpWVC"
      },
      "execution_count": 32,
      "outputs": []
    },
    {
      "cell_type": "markdown",
      "source": [
        "Call driver Function"
      ],
      "metadata": {
        "id": "J7FlQ5GA1LQI"
      }
    },
    {
      "cell_type": "code",
      "source": [
        "# Step 7: Main function to demonstrate encoding process\n",
        "\n",
        "def main():\n",
        "    # Example data stream (simulate pixel values or symbols)\n",
        "    data = [1, 2, 5, 2, 4, 1, 2, 5, 3, 5, 0, 1]\n",
        "\n",
        "    # Initialize tree with the first symbol\n",
        "    tree = initialize_tree(data[0])\n",
        "    dict_node = tree  # Initially, the tree only has a dictionary node\n",
        "    root_ref = [tree]  # Use list for mutable reference to root\n",
        "\n",
        "    # Process each symbol in the stream\n",
        "    for value in data:\n",
        "        update_tree(root_ref, dict_node, value)\n",
        "        print_tree(root_ref[0])\n",
        "        print(\"Next Loop\\n\")\n",
        "\n",
        "# Entry point\n",
        "if __name__ == '__main__':\n",
        "    main()\n"
      ],
      "metadata": {
        "colab": {
          "base_uri": "https://localhost:8080/"
        },
        "id": "jCCPOuT4ogFu",
        "outputId": "7e4f3349-0c4e-45e6-a688-e7f2db425c37"
      },
      "execution_count": 34,
      "outputs": [
        {
          "output_type": "stream",
          "name": "stdout",
          "text": [
            "Occurrences: 0, Data: [], Weight: 100000001.0\n",
            "Occurrences: 0, Data: [], Weight: 100000000.0\n",
            "Occurrences: 1, Data: [1], Weight: 1\n",
            "Next Loop\n",
            "\n",
            "Occurrences: 0, Data: [], Weight: 100000001.0\n",
            "Occurrences: 0, Data: [], Weight: 100000000.0\n",
            "Occurrences: 1, Data: [1, 2], Weight: 2\n",
            "Next Loop\n",
            "\n",
            "Occurrences: 0, Data: [], Weight: 100000001.0\n",
            "Occurrences: 0, Data: [], Weight: 100000000.0\n",
            "Occurrences: 1, Data: [1, 2, 5], Weight: 3\n",
            "Next Loop\n",
            "\n",
            "Occurrences: 0, Data: [], Weight: 100000001.0\n",
            "Occurrences: 0, Data: [], Weight: 100000000.0\n",
            "Occurrences: 0, Data: [], Weight: 6\n",
            "Occurrences: 1, Data: [1, 5], Weight: 2\n",
            "Occurrences: 2, Data: [2], Weight: 4\n",
            "Next Loop\n",
            "\n",
            "Occurrences: 0, Data: [], Weight: 100000001.0\n",
            "Occurrences: 0, Data: [], Weight: 100000000.0\n",
            "Occurrences: 0, Data: [], Weight: 7\n",
            "Occurrences: 1, Data: [1, 5, 4], Weight: 3\n",
            "Occurrences: 2, Data: [2], Weight: 4\n",
            "Next Loop\n",
            "\n",
            "Occurrences: 0, Data: [], Weight: 100000001.0\n",
            "Occurrences: 0, Data: [], Weight: 100000000.0\n",
            "Occurrences: 0, Data: [], Weight: 14\n",
            "Occurrences: 1, Data: [5, 4], Weight: 2\n",
            "Occurrences: 2, Data: [2, 1], Weight: 12\n",
            "Next Loop\n",
            "\n",
            "Occurrences: 0, Data: [], Weight: 100000001.0\n",
            "Occurrences: 0, Data: [], Weight: 100000000.0\n",
            "Occurrences: 0, Data: [], Weight: 21\n",
            "Occurrences: 1, Data: [5, 4], Weight: 2\n",
            "Occurrences: 0, Data: [], Weight: 19\n",
            "Occurrences: 2, Data: [1], Weight: 10\n",
            "Occurrences: 3, Data: [2], Weight: 9\n",
            "Next Loop\n",
            "\n",
            "Occurrences: 0, Data: [], Weight: 100000001.0\n",
            "Occurrences: 0, Data: [], Weight: 100000000.0\n",
            "Occurrences: 0, Data: [], Weight: 22\n",
            "Occurrences: 1, Data: [4], Weight: 1\n",
            "Occurrences: 0, Data: [], Weight: 21\n",
            "Occurrences: 2, Data: [1, 5], Weight: 12\n",
            "Occurrences: 3, Data: [2], Weight: 9\n",
            "Next Loop\n",
            "\n",
            "Occurrences: 0, Data: [], Weight: 100000001.0\n",
            "Occurrences: 0, Data: [], Weight: 100000000.0\n",
            "Occurrences: 0, Data: [], Weight: 23\n",
            "Occurrences: 1, Data: [4, 3], Weight: 2\n",
            "Occurrences: 0, Data: [], Weight: 21\n",
            "Occurrences: 2, Data: [1, 5], Weight: 12\n",
            "Occurrences: 3, Data: [2], Weight: 9\n",
            "Next Loop\n",
            "\n",
            "Occurrences: 0, Data: [], Weight: 100000001.0\n",
            "Occurrences: 0, Data: [], Weight: 100000000.0\n",
            "Occurrences: 0, Data: [], Weight: 48\n",
            "Occurrences: 0, Data: [], Weight: 12\n",
            "Occurrences: 3, Data: [2, 5], Weight: 36\n",
            "Occurrences: 2, Data: [1], Weight: 10\n",
            "Occurrences: 1, Data: [4, 3], Weight: 2\n",
            "Next Loop\n",
            "\n",
            "Occurrences: 0, Data: [], Weight: 100000001.0\n",
            "Occurrences: 0, Data: [], Weight: 100000000.0\n",
            "Occurrences: 0, Data: [], Weight: 48\n",
            "Occurrences: 0, Data: [], Weight: 12\n",
            "Occurrences: 3, Data: [2, 5], Weight: 36\n",
            "Occurrences: 2, Data: [1], Weight: 10\n",
            "Occurrences: 1, Data: [4, 3, 0], Weight: 3\n",
            "Next Loop\n",
            "\n",
            "Occurrences: 0, Data: [], Weight: 100000001.0\n",
            "Occurrences: 0, Data: [], Weight: 100000000.0\n",
            "Occurrences: 0, Data: [], Weight: 48\n",
            "Occurrences: 0, Data: [], Weight: 12\n",
            "Occurrences: 3, Data: [2, 5, 1], Weight: 39\n",
            "Occurrences: 1, Data: [4, 3, 0], Weight: 3\n",
            "Next Loop\n",
            "\n"
          ]
        }
      ]
    }
  ]
}